{
 "cells": [
  {
   "cell_type": "code",
   "execution_count": 4,
   "metadata": {},
   "outputs": [],
   "source": [
    "import os \n",
    "\n"
   ]
  },
  {
   "cell_type": "code",
   "execution_count": 5,
   "metadata": {},
   "outputs": [
    {
     "data": {
      "text/plain": [
       "'/media/puzan/NewVolume/MyFolder'"
      ]
     },
     "execution_count": 5,
     "metadata": {},
     "output_type": "execute_result"
    }
   ],
   "source": [
    "%pwd"
   ]
  },
  {
   "cell_type": "code",
   "execution_count": 6,
   "metadata": {},
   "outputs": [],
   "source": [
    "# os.chdir(\"../\")"
   ]
  },
  {
   "cell_type": "code",
   "execution_count": 7,
   "metadata": {},
   "outputs": [
    {
     "data": {
      "text/plain": [
       "'/media/puzan/NewVolume/MyFolder'"
      ]
     },
     "execution_count": 7,
     "metadata": {},
     "output_type": "execute_result"
    }
   ],
   "source": [
    "os.getcwd()"
   ]
  },
  {
   "cell_type": "code",
   "execution_count": 8,
   "metadata": {},
   "outputs": [],
   "source": [
    "#create entity that is return type\n",
    "from dataclasses import dataclass\n",
    "from pathlib import Path\n",
    "#data class bhaneko class banauxa instance haru\n",
    "\n",
    "@dataclass(frozen=True)\n",
    "class DataIngestionConfig:\n",
    "    root_dir: Path\n",
    "    source_URL: str\n",
    "    local_data_file: Path\n",
    "    unzip_dir: Path  # Correctly typed and declared\n"
   ]
  },
  {
   "cell_type": "markdown",
   "metadata": {},
   "source": []
  },
  {
   "cell_type": "code",
   "execution_count": 9,
   "metadata": {},
   "outputs": [
    {
     "data": {
      "text/plain": [
       "'/media/puzan/NewVolume/MyFolder'"
      ]
     },
     "execution_count": 9,
     "metadata": {},
     "output_type": "execute_result"
    }
   ],
   "source": [
    "%pwd"
   ]
  },
  {
   "cell_type": "code",
   "execution_count": 10,
   "metadata": {},
   "outputs": [],
   "source": [
    "from translator.constants import CONFIG_FILE_PATH, PARAMS_FILE_PATH\n",
    "from translator.utils.common import read_yaml,create_directories,get_size\n"
   ]
  },
  {
   "cell_type": "code",
   "execution_count": 11,
   "metadata": {},
   "outputs": [
    {
     "name": "stdout",
     "output_type": "stream",
     "text": [
      "config/config.yaml param/params.yaml\n"
     ]
    }
   ],
   "source": [
    "print(CONFIG_FILE_PATH,PARAMS_FILE_PATH)"
   ]
  },
  {
   "cell_type": "code",
   "execution_count": 12,
   "metadata": {},
   "outputs": [
    {
     "name": "stdout",
     "output_type": "stream",
     "text": [
      "['artifacts_root: artifacts\\n', '\\n', 'data_ingestion:\\n', '  root_dir: artifacts/data_ingestion\\n', '  source_URL: https://github.com/Puzan789/Datas/blob/main/translatordata.zip\\n', '  local_data_file: artifacts/data_ingestion/data.zip\\n', '  unzip_dir: artifacts/data_ingestion\\n']\n"
     ]
    }
   ],
   "source": [
    "with open(CONFIG_FILE_PATH,\"r\") as f:\n",
    "    print(f.readlines())"
   ]
  },
  {
   "cell_type": "code",
   "execution_count": 13,
   "metadata": {},
   "outputs": [],
   "source": [
    "# configuration manager"
   ]
  },
  {
   "cell_type": "code",
   "execution_count": 24,
   "metadata": {},
   "outputs": [],
   "source": [
    "# class ConfigurationManager:\n",
    "#     def __init__(self,config_file_path=CONFIG_FILE_PATH,params_file_path=PARAMS_FILE_PATH):\n",
    "#         self.config=read_yaml(config_file_path)\n",
    "#         self.params=read_yaml(params_file_path)\n",
    "#         create_directories([self.config.artifacts_root])\n",
    "    \n",
    "#     def get_data_ingestion_config(self) -> DataIngestionConfig:\n",
    "#         config=self.config.data_ingestion\n",
    "#         create_directories([Path(config.root_dir)])\n",
    "#         data_ingestion_config=DataIngestionConfig(\n",
    "#             root_dir=Path(config.root_dir),\n",
    "#             source_URL=config.source_URL,\n",
    "#             local_data_file=config.local_data_file,\n",
    "#             unzip_dir=config.unzip_dir\n",
    "#         )\n",
    "#         return data_ingestion_config\n",
    "\n",
    "class ConfigurationManager:\n",
    "    def __init__(self,config_file_path=CONFIG_FILE_PATH,params_file_path=PARAMS_FILE_PATH):\n",
    "        self.config=read_yaml(config_file_path)\n",
    "        self.params=read_yaml(params_file_path)\n",
    "        create_directories([self.config.artifacts_root])\n",
    "\n",
    "    def get_data_ingestion_config(self) -> DataIngestionConfig:\n",
    "        config = self.config.data_ingestion\n",
    "        create_directories([Path(config.root_dir)])  # Ensure it's a Path object\n",
    "        data_ingestion_config = DataIngestionConfig(\n",
    "            root_dir=Path(config.root_dir),  # Convert to Path object\n",
    "            source_URL=config.source_URL,\n",
    "            local_data_file=Path(config.local_data_file),  # Convert to Path object\n",
    "            unzip_dir=Path(config.unzip_dir),  # Convert to Path object\n",
    "        )\n",
    "        return data_ingestion_config\n",
    "\n",
    "    "
   ]
  },
  {
   "cell_type": "code",
   "execution_count": 23,
   "metadata": {},
   "outputs": [],
   "source": [
    "#components \n",
    "import os \n",
    "import urllib.request as request\n",
    "import zipfile\n",
    "from translator.logging import logger\n",
    "from translator.utils import common\n"
   ]
  },
  {
   "cell_type": "code",
   "execution_count": 31,
   "metadata": {},
   "outputs": [],
   "source": [
    "class Dataingestion:\n",
    "    def __init__(self,config:DataIngestionConfig):\n",
    "        self.config=config\n",
    "    \n",
    "    def download_file(self):\n",
    "        if not self.config.local_data_file.exists() or os.path.getsize(self.config.local_data_file)==0:\n",
    "            try:\n",
    "                file_name,header=request.urlretrieve(\n",
    "                    url=self.config.source_URL,\n",
    "                    filename=self.config.local_data_file\n",
    "                )\n",
    "                logger.info(f\"{file_name} downloaded with the following {header}\")\n",
    "                #verifying whether the file is empty or not\n",
    "                if os.path.getsize(self.config.local_data_file)==0:\n",
    "                    logger.error(\"Download file is empty.\")\n",
    "                    raise Exception (\"Empty downloaded file\")\n",
    "            except Exception as e :\n",
    "                raise f\"Error occured while downloading the file {e}\"\n",
    "        else:\n",
    "            logger.info (f\"file already exists with the size {get_size(self.config.local_data_file)}\")\n",
    "    \n",
    "    def extract_zip_file(self):\n",
    "        unzip_path=self.config.unzip_dir\n",
    "        os.makedirs(unzip_path,exist_ok=True)\n",
    "        logger.info(f\"Extracting zip file to {unzip_path}\")\n",
    "        try :\n",
    "            with zipfile.ZipFile(self.config.local_data_file,'r') as zip_f:\n",
    "                zip_f.extractall(unzip_path)\n",
    "                logger.info(\"Extraction completed successfully\")\n",
    "        except zipfile.BadZipFile:\n",
    "            logger.error(f\"Bad zip file {self.config.local_data_file}\")\n",
    "        except zipfile.LargeZipFile:\n",
    "            logger.error(f\"Zip file too large{self.config.local_data_file}\")\n",
    "        except Exception as e:\n",
    "            logger.error(f\"Error occured while extracting zip file {e}\")\n",
    "            raise\n",
    "            \n",
    "        \n",
    "    \n",
    "\n"
   ]
  },
  {
   "cell_type": "code",
   "execution_count": 32,
   "metadata": {},
   "outputs": [
    {
     "name": "stdout",
     "output_type": "stream",
     "text": [
      "[2024-09-25 08:58:55,634:INFO:common:yaml_file:config/config.yaml loaded successfully\n",
      "[2024-09-25 08:58:55,639:INFO:common:yaml_file:param/params.yaml loaded successfully\n",
      "[2024-09-25 08:58:55,641:INFO:common:Directory 'artifacts' created successfully\n",
      "[2024-09-25 08:58:55,642:INFO:common:Directory 'artifacts/data_ingestion' created successfully\n",
      "[2024-09-25 08:58:56,784:INFO:2124288436:artifacts/data_ingestion/data.zip downloaded with the following Connection: close\n",
      "Content-Length: 5349\n",
      "Cache-Control: max-age=300\n",
      "Content-Security-Policy: default-src 'none'; style-src 'unsafe-inline'; sandbox\n",
      "Content-Type: application/zip\n",
      "ETag: \"ae983b6b1b4db56278ef2af0f64aca08a49ee1262cca45c79571c6d2e840d41f\"\n",
      "Strict-Transport-Security: max-age=31536000\n",
      "X-Content-Type-Options: nosniff\n",
      "X-Frame-Options: deny\n",
      "X-XSS-Protection: 1; mode=block\n",
      "X-GitHub-Request-Id: 6C9E:175DB:369A39:44304A:66F37FF3\n",
      "Accept-Ranges: bytes\n",
      "Date: Wed, 25 Sep 2024 03:13:56 GMT\n",
      "Via: 1.1 varnish\n",
      "X-Served-By: cache-del21733-DEL\n",
      "X-Cache: MISS\n",
      "X-Cache-Hits: 0\n",
      "X-Timer: S1727234036.431574,VS0,VE296\n",
      "Vary: Authorization,Accept-Encoding,Origin\n",
      "Access-Control-Allow-Origin: *\n",
      "Cross-Origin-Resource-Policy: cross-origin\n",
      "X-Fastly-Request-ID: 40b7ba4c175c7f5d20c7b1c6cc6d87811a2ce526\n",
      "Expires: Wed, 25 Sep 2024 03:18:56 GMT\n",
      "Source-Age: 0\n",
      "\n",
      "\n",
      "[2024-09-25 08:58:56,785:INFO:2124288436:Extracting zip file to artifacts/data_ingestion\n",
      "[2024-09-25 08:58:56,788:INFO:2124288436:Extraction completed successfully\n"
     ]
    }
   ],
   "source": [
    "#pipeline\n",
    "try:\n",
    "    config=ConfigurationManager()\n",
    "    data_ingestion_config=config.get_data_ingestion_config()\n",
    "    Dataingestion=Dataingestion(data_ingestion_config)\n",
    "    Dataingestion.download_file()\n",
    "    Dataingestion.extract_zip_file()\n",
    "except Exception as e:\n",
    "    logger.error(f\"An error occured while\")\n",
    "    raise e\n",
    "    "
   ]
  },
  {
   "cell_type": "code",
   "execution_count": null,
   "metadata": {},
   "outputs": [],
   "source": []
  }
 ],
 "metadata": {
  "kernelspec": {
   "display_name": "aiagent",
   "language": "python",
   "name": "python3"
  },
  "language_info": {
   "codemirror_mode": {
    "name": "ipython",
    "version": 3
   },
   "file_extension": ".py",
   "mimetype": "text/x-python",
   "name": "python",
   "nbconvert_exporter": "python",
   "pygments_lexer": "ipython3",
   "version": "3.12.3"
  }
 },
 "nbformat": 4,
 "nbformat_minor": 2
}
